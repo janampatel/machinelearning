{
 "cells": [
  {
   "cell_type": "markdown",
   "id": "18159eb2",
   "metadata": {},
   "source": [
    "# Gaussian NB"
   ]
  },
  {
   "cell_type": "code",
   "execution_count": 1,
   "id": "1e416b02",
   "metadata": {},
   "outputs": [],
   "source": [
    "import numpy as np\n",
    "from sklearn import datasets, metrics\n",
    "from sklearn.naive_bayes import GaussianNB"
   ]
  },
  {
   "cell_type": "code",
   "execution_count": 2,
   "id": "0edffc70",
   "metadata": {},
   "outputs": [
    {
     "name": "stdout",
     "output_type": "stream",
     "text": [
      "(150, 4)\n"
     ]
    }
   ],
   "source": [
    "# loading iris dataset\n",
    "# it contains sepal length, height and petal length, height\n",
    "# categorised into 3 different flowers\n",
    "\n",
    "X,y = datasets.load_iris(return_X_y=True)\n",
    "print(X.shape)"
   ]
  },
  {
   "cell_type": "code",
   "execution_count": 3,
   "id": "92fefbce",
   "metadata": {},
   "outputs": [],
   "source": [
    "X_train = X[range(0,150,2),:]\n",
    "y_train = y[range(0,150,2)]\n",
    "\n",
    "X_test = X[range(1,150,2),:]\n",
    "y_test = y[range(1,150,2)]"
   ]
  },
  {
   "cell_type": "code",
   "execution_count": 5,
   "id": "8666cb92",
   "metadata": {},
   "outputs": [
    {
     "name": "stdout",
     "output_type": "stream",
     "text": [
      "Accuracy proportion:  0.96\n",
      "Report:                precision    recall  f1-score   support\n",
      "\n",
      "           0       1.00      1.00      1.00        25\n",
      "           1       0.92      0.96      0.94        25\n",
      "           2       0.96      0.92      0.94        25\n",
      "\n",
      "    accuracy                           0.96        75\n",
      "   macro avg       0.96      0.96      0.96        75\n",
      "weighted avg       0.96      0.96      0.96        75\n",
      "\n",
      "Confusion Matrix: \n",
      " [[25  0  0]\n",
      " [ 0 24  1]\n",
      " [ 0  2 23]]\n"
     ]
    }
   ],
   "source": [
    "# apply gaussian NB as data is continous numeric\n",
    "clr = GaussianNB()\n",
    "clr.fit(X_train,y_train)\n",
    "\n",
    "pred = clr.predict(X_test)\n",
    "\n",
    "print(\"Accuracy proportion: \", metrics.accuracy_score(y_test,pred))\n",
    "print(\"Report: \", metrics.classification_report(y_test,pred))\n",
    "print(\"Confusion Matrix: \\n\", metrics.confusion_matrix(y_test,pred))"
   ]
  },
  {
   "cell_type": "markdown",
   "id": "b7c73833",
   "metadata": {},
   "source": [
    "# Multinomial NB"
   ]
  },
  {
   "cell_type": "code",
   "execution_count": 1,
   "id": "2a929e47",
   "metadata": {},
   "outputs": [],
   "source": [
    "import numpy as np\n",
    "import csv\n",
    "from sklearn.feature_extraction.text import CountVectorizer\n",
    "from sklearn.naive_bayes import MultinomialNB\n",
    "from sklearn import metrics"
   ]
  },
  {
   "cell_type": "code",
   "execution_count": 5,
   "id": "0163892d",
   "metadata": {},
   "outputs": [],
   "source": [
    "# I prepared a csv by taking 50 different news headings from google\n",
    "# categorized them into (technology, politics, sports) for ease\n",
    "# now for each news heading we can vectorise words present in it to classify the type\n",
    "\n",
    "with open(\"news_classification.csv\", 'r') as f:\n",
    "    data = list(csv.reader(f, delimiter=\",\"))\n",
    "    \n",
    "data = np.array(data)\n",
    "\n",
    "X_train = data[1:46,0]\n",
    "y_train = data[1:46,1]\n",
    "X_test = data[46:,0]\n",
    "y_test = data[46:,1]"
   ]
  },
  {
   "cell_type": "code",
   "execution_count": 6,
   "id": "9a7d0230",
   "metadata": {},
   "outputs": [
    {
     "name": "stdout",
     "output_type": "stream",
     "text": [
      "Accuracy proportion:  0.8\n",
      "Report:                precision    recall  f1-score   support\n",
      "\n",
      "    politics       0.50      1.00      0.67         1\n",
      "      sports       1.00      0.50      0.67         2\n",
      "  technology       1.00      1.00      1.00         2\n",
      "\n",
      "    accuracy                           0.80         5\n",
      "   macro avg       0.83      0.83      0.78         5\n",
      "weighted avg       0.90      0.80      0.80         5\n",
      "\n",
      "Confusion Matrix: \n",
      " [[1 0 0]\n",
      " [1 1 0]\n",
      " [0 0 2]]\n"
     ]
    }
   ],
   "source": [
    "# CountVectorizer used to convert text into word frequency features\n",
    "vectorizer = CountVectorizer()\n",
    "X_train_counts = vectorizer.fit_transform(X_train)\n",
    "X_test_counts = vectorizer.transform(X_test)\n",
    "\n",
    "# Multinomial Naive Bayes\n",
    "classifier = MultinomialNB()\n",
    "classifier.fit(X_train_counts, y_train)\n",
    "\n",
    "# Make predictions\n",
    "pred = classifier.predict(X_test_counts)\n",
    "\n",
    "print(\"Accuracy proportion: \", metrics.accuracy_score(y_test,pred))\n",
    "print(\"Report: \", metrics.classification_report(y_test,pred))\n",
    "print(\"Confusion Matrix: \\n\", metrics.confusion_matrix(y_test,pred))"
   ]
  },
  {
   "cell_type": "code",
   "execution_count": 8,
   "id": "d6c8c36e",
   "metadata": {},
   "outputs": [
    {
     "name": "stdout",
     "output_type": "stream",
     "text": [
      "Enter a news heading to classify its type: Basketball Team Wins Overtime Thriller\n",
      "Label:  sports\n"
     ]
    }
   ],
   "source": [
    "heading = input(\"Enter a news heading to classify its type: \")\n",
    "\n",
    "test_counts = vectorizer.transform([heading])\n",
    "pred = classifier.predict(test_counts)\n",
    "print(\"Label: \",pred[0])"
   ]
  },
  {
   "cell_type": "markdown",
   "id": "3b1f830d",
   "metadata": {},
   "source": [
    "# Bernoulli NB"
   ]
  },
  {
   "cell_type": "code",
   "execution_count": 1,
   "id": "3b87a58e",
   "metadata": {},
   "outputs": [],
   "source": [
    "import numpy as np\n",
    "import csv\n",
    "from sklearn.feature_extraction.text import CountVectorizer\n",
    "from sklearn.naive_bayes import BernoulliNB\n",
    "from sklearn import metrics"
   ]
  },
  {
   "cell_type": "code",
   "execution_count": 7,
   "id": "f032c14a",
   "metadata": {},
   "outputs": [],
   "source": [
    "# took 50 one liner tweets and labelelled them\n",
    "with open(\"sentiment_analysis.csv\", 'r') as f:\n",
    "    data = list(csv.reader(f, delimiter=\",\"))\n",
    "\n",
    "data = np.array(data)\n",
    "\n",
    "X_train = data[1:40,0]\n",
    "y_train = data[1:40,1]\n",
    "X_test = data[40:,0]\n",
    "y_test = data[40:,1]"
   ]
  },
  {
   "cell_type": "code",
   "execution_count": 8,
   "id": "6e8d3ec2",
   "metadata": {},
   "outputs": [
    {
     "name": "stdout",
     "output_type": "stream",
     "text": [
      "Accuracy proportion:  0.8\n",
      "Report:                precision    recall  f1-score   support\n",
      "\n",
      "    negative       1.00      0.60      0.75         5\n",
      "    positive       0.71      1.00      0.83         5\n",
      "\n",
      "    accuracy                           0.80        10\n",
      "   macro avg       0.86      0.80      0.79        10\n",
      "weighted avg       0.86      0.80      0.79        10\n",
      "\n",
      "Confusion Matrix: \n",
      " [[3 2]\n",
      " [0 5]]\n"
     ]
    }
   ],
   "source": [
    "# CountVectorizer used to convert text into binary presence/absence features\n",
    "vectorizer = CountVectorizer(binary=True)\n",
    "X_train_counts = vectorizer.fit_transform(X_train)\n",
    "X_test_counts = vectorizer.transform(X_test)\n",
    "\n",
    "# Bernoulli Naive Bayes\n",
    "classifier = BernoulliNB()\n",
    "classifier.fit(X_train_counts, y_train)\n",
    "\n",
    "# Make predictions\n",
    "pred = classifier.predict(X_test_counts)\n",
    "\n",
    "print(\"Accuracy proportion: \", metrics.accuracy_score(y_test,pred))\n",
    "print(\"Report: \", metrics.classification_report(y_test,pred))\n",
    "print(\"Confusion Matrix: \\n\", metrics.confusion_matrix(y_test,pred))"
   ]
  },
  {
   "cell_type": "code",
   "execution_count": 10,
   "id": "6915e289",
   "metadata": {},
   "outputs": [
    {
     "name": "stdout",
     "output_type": "stream",
     "text": [
      "Enter a tweet and find its sentiment: This constant heat is ruining my mood\n",
      "Label:  negative\n"
     ]
    }
   ],
   "source": [
    "tweet = input(\"Enter a tweet and find its sentiment: \")\n",
    "\n",
    "test_counts = vectorizer.transform([tweet])\n",
    "pred = classifier.predict(test_counts)\n",
    "print(\"Label: \",pred[0])"
   ]
  },
  {
   "cell_type": "code",
   "execution_count": null,
   "id": "232956fb",
   "metadata": {},
   "outputs": [],
   "source": []
  }
 ],
 "metadata": {
  "kernelspec": {
   "display_name": "Python 3 (ipykernel)",
   "language": "python",
   "name": "python3"
  },
  "language_info": {
   "codemirror_mode": {
    "name": "ipython",
    "version": 3
   },
   "file_extension": ".py",
   "mimetype": "text/x-python",
   "name": "python",
   "nbconvert_exporter": "python",
   "pygments_lexer": "ipython3",
   "version": "3.11.4"
  }
 },
 "nbformat": 4,
 "nbformat_minor": 5
}
